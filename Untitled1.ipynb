{
 "cells": [
  {
   "cell_type": "code",
   "execution_count": 6,
   "metadata": {},
   "outputs": [],
   "source": [
    "import pandas as pd\n",
    "import matplotlib.pyplot as plt\n",
    "import numpy as np\n",
    "from sklearn.linear_model import LinearRegression\n",
    "\n",
    "class MyLinearRegression():\n",
    "\t\"\"\"\n",
    "\tput some descriptions in it !\n",
    "\t\"\"\"\n",
    "\tdef __init__(self, theta):\n",
    "\t\t\"\"\"\n",
    "\t\tGenerator of the class, nb_theta is the number of parameters constituting\n",
    "\t\tthe linear model, theta is the parameters of the linear model -list type expected-.\n",
    "\t\t\"\"\"\n",
    "\t\tself.theta=np.array(theta).reshape(-1,1) \n",
    "\n",
    "\tdef predict(self, X):\n",
    "\t\t\"\"\"\n",
    "\t\tMethod which apply the linear model to calcultate and return -array type-\n",
    "\t\tthe prediction using the X values -array type-.\n",
    "\t\t\"\"\"\n",
    "\t\tY = self.theta[0] + np.dot(X, self.theta[1:]) \n",
    "\t\treturn Y.reshape(-1,1)\n",
    "\n",
    "\tdef mse(self, X, Y):\n",
    "\t\t\"\"\"\n",
    "\t\tMethod which calculate the mse.\n",
    "\t\t\"\"\"\n",
    "\t\tpredictY = self.predict(X)\n",
    "\t\tM = len(Y)\n",
    "\t\tR = (predictY - Y)\n",
    "\t\tR = (1 / (2 *M)) * R.T.dot(R)\n",
    "\t\treturn float(R)\n",
    "\n",
    "\tdef mse_components(self, X, Y):\n",
    "\t\t\"\"\"\n",
    "\t\tMethod which calculate the mse and stock the components in an array.\n",
    "\t\t\"\"\"\n",
    "\t\tpredictY = self.predict(X)\n",
    "\t\tM = len(Y)\n",
    "\t\tR = (predictY - Y)\n",
    "\t\tR = (1 / ( 2 *M)) * np.square(R)\n",
    "\t\treturn R.reshape(-1,1)\n",
    "\n",
    "\tdef rmse(self, X, Y):\n",
    "\t\t\"\"\"\n",
    "\t\tMethod which calculate the rmse.\n",
    "\t\t\"\"\"\n",
    "\t\tpredictY = self.predict(X)\n",
    "\t\tM = len(Y)\n",
    "\t\tR = (predictY - Y)\n",
    "\t\tR = np.sqrt((1 / M) * R.T.dot(R))\n",
    "\t\treturn float(R)\n",
    "\n",
    "\tdef rmse_components(self, X, Y):\n",
    "\t\t\"\"\"\n",
    "\t\tMethod which calculate the rmse and stock the components in an array.\n",
    "\t\t\"\"\"\n",
    "\t\tpredictY = self.predict(X)\n",
    "\t\tM = len(Y)\n",
    "\t\tR = (predictY - Y)\n",
    "\t\tR = np.sqrt((1 / M) * np.square(R))\n",
    "\t\treturn R.reshape(-1,1)\n",
    "\t\n",
    "\tdef fit(self, X, Y,alpha = 0.00000008, n_cycle = 1500000):\n",
    "\t\t\"\"\"\n",
    "\t\t...\n",
    "\t\t\"\"\"\n",
    "\t\tcompt = 0\n",
    "\t\tM = len(Y)\n",
    "\t\tX = np.append(np.ones((M,1)), X, axis = 1).reshape(M,-1)\n",
    "\t\twhile compt < n_cycle :\n",
    "\t\t\tX_theta_Y = np.dot(X, self.theta) - Y\n",
    "\t\t\tXt_X_theta_Y = np.dot(np.transpose(X), X_theta_Y)\n",
    "\t\t\tcorrec_theta = (alpha  / M) * Xt_X_theta_Y\n",
    "\t\t\ttemp_theta = self.theta - correc_theta\n",
    "\t\t\tself.theta = temp_theta\n",
    "\t\t\tcompt = compt + 1\n",
    "\n",
    "\tdef get_params(self):\n",
    "\t\t\"\"\"\n",
    "\t\tMethod which return theta.\n",
    "\t\t\"\"\"\n",
    "\t\treturn self.theta\n",
    "\n",
    "\tdef set_params(self, params):\n",
    "\t\t\"\"\"\n",
    "\t\tMethod to set the values of theta -list type -.\n",
    "\t\t\"\"\"\n",
    "\t\tif len(params) != len(self.theta):\n",
    "\t\t\traise ValueError(\"Length of list parameters does not match the expected lentgh.\")\n",
    "\t\tself.theta = np.array(params).reshape(-1,1)\n",
    "\n",
    "\tdef __str__(self):\n",
    "\t\treturn (\"[theta_i] = {}.\".format(self.theta))"
   ]
  },
  {
   "cell_type": "code",
   "execution_count": 70,
   "metadata": {},
   "outputs": [
    {
     "data": {
      "text/plain": [
       "array([[12.4956442],\n",
       "       [21.5007972],\n",
       "       [31.5527382],\n",
       "       [48.9145838],\n",
       "       [57.5088733]])"
      ]
     },
     "execution_count": 70,
     "metadata": {},
     "output_type": "execute_result"
    }
   ],
   "source": [
    "x = np.array([1.24956442, 2.15007972, 3.15527382, 4.89145838, 5.75088733]).reshape((5,1)) * 10\n",
    "x"
   ]
  },
  {
   "cell_type": "code",
   "execution_count": 28,
   "metadata": {},
   "outputs": [],
   "source": [
    "import matplotlib.pyplot as plt\n"
   ]
  },
  {
   "cell_type": "code",
   "execution_count": 33,
   "metadata": {},
   "outputs": [
    {
     "data": {
      "text/plain": [
       "<matplotlib.collections.PathCollection at 0x122355b70>"
      ]
     },
     "execution_count": 33,
     "metadata": {},
     "output_type": "execute_result"
    },
    {
     "data": {
      "image/png": "[encoded data removed]",
      "text/plain": [
       "<Figure size 432x288 with 1 Axes>"
      ]
     },
     "metadata": {
      "needs_background": "light"
     },
     "output_type": "display_data"
    }
   ],
   "source": [
    "plt.scatter(x,y)"
   ]
  },
  {
   "cell_type": "code",
   "execution_count": 71,
   "metadata": {},
   "outputs": [
    {
     "data": {
      "text/plain": [
       "array([[37.4013816],\n",
       "       [36.1473236],\n",
       "       [45.7655287],\n",
       "       [46.6793434],\n",
       "       [59.5585554]])"
      ]
     },
     "execution_count": 71,
     "metadata": {},
     "output_type": "execute_result"
    }
   ],
   "source": [
    "y = np.array([3.74013816, 3.61473236, 4.57655287, 4.66793434, 5.95585554]).reshape((5,1)) * 10\n",
    "y"
   ]
  },
  {
   "cell_type": "code",
   "execution_count": 72,
   "metadata": {},
   "outputs": [
    {
     "data": {
      "text/plain": [
       "array([[10.74695094],\n",
       "       [17.05055804],\n",
       "       [24.08691674],\n",
       "       [36.24020866],\n",
       "       [42.25621131]])"
      ]
     },
     "execution_count": 72,
     "metadata": {},
     "output_type": "execute_result"
    }
   ],
   "source": [
    "lr1 = MyLinearRegression([2, 0.7])\n",
    "lr1.predict(x)"
   ]
  },
  {
   "cell_type": "code",
   "execution_count": 50,
   "metadata": {},
   "outputs": [
    {
     "data": {
      "text/plain": [
       "array([[2. ],\n",
       "       [0.7]])"
      ]
     },
     "execution_count": 50,
     "metadata": {},
     "output_type": "execute_result"
    }
   ],
   "source": [
    "lr1.theta"
   ]
  },
  {
   "cell_type": "code",
   "execution_count": 68,
   "metadata": {},
   "outputs": [
    {
     "data": {
      "text/plain": [
       "array([[77.72116511],\n",
       "       [49.33699664],\n",
       "       [72.38621816],\n",
       "       [37.29223426],\n",
       "       [78.28360514]])"
      ]
     },
     "execution_count": 68,
     "metadata": {},
     "output_type": "execute_result"
    }
   ],
   "source": [
    "lr1.mse_components(lr1.predict(x), y)"
   ]
  },
  {
   "cell_type": "code",
   "execution_count": 63,
   "metadata": {},
   "outputs": [
    {
     "data": {
      "text/plain": [
       "array([[13.4956442],\n",
       "       [22.5007972],\n",
       "       [32.5527382],\n",
       "       [49.9145838],\n",
       "       [58.5088733]])"
      ]
     },
     "execution_count": 63,
     "metadata": {},
     "output_type": "execute_result"
    }
   ],
   "source": [
    "lr2 = MyLinearRegression([[1],[1]])\n",
    "lr2.predict(x)"
   ]
  },
  {
   "cell_type": "code",
   "execution_count": 64,
   "metadata": {},
   "outputs": [],
   "source": [
    "lr2.fit(x, y, alpha=5e-8)"
   ]
  },
  {
   "cell_type": "code",
   "execution_count": 65,
   "metadata": {},
   "outputs": [
    {
     "data": {
      "text/plain": [
       "array([[1.40709365],\n",
       "       [1.1150909 ]])"
      ]
     },
     "execution_count": 65,
     "metadata": {},
     "output_type": "execute_result"
    }
   ],
   "source": [
    "lr2.theta"
   ]
  },
  {
   "cell_type": "code",
   "execution_count": 66,
   "metadata": {},
   "outputs": [
    {
     "data": {
      "text/plain": [
       "array([[15.3408728 ],\n",
       "       [25.38243697],\n",
       "       [36.59126492],\n",
       "       [55.95130097],\n",
       "       [65.53471499]])"
      ]
     },
     "execution_count": 66,
     "metadata": {},
     "output_type": "execute_result"
    }
   ],
   "source": [
    "lr2.predict(x)"
   ]
  },
  {
   "cell_type": "code",
   "execution_count": 69,
   "metadata": {},
   "outputs": [
    {
     "data": {
      "text/plain": [
       "array([[35.6749755 ],\n",
       "       [ 4.14286023],\n",
       "       [ 1.26440585],\n",
       "       [29.30443042],\n",
       "       [22.27765992]])"
      ]
     },
     "execution_count": 69,
     "metadata": {},
     "output_type": "execute_result"
    }
   ],
   "source": [
    "lr2.mse_components(lr2.predict(x), y)"
   ]
  }
 ],
 "metadata": {
  "kernelspec": {
   "display_name": "Python 3",
   "language": "python",
   "name": "python3"
  }
 },
 "nbformat": 4,
 "nbformat_minor": 2
}
